{
 "cells": [
  {
   "cell_type": "markdown",
   "metadata": {},
   "source": [
    "## Reference\n",
    " - https://statquest.org/video-index/"
   ]
  },
  {
   "cell_type": "markdown",
   "metadata": {},
   "source": [
    "## Bias\n",
    "\n",
    "\n",
    "- 머신러닝 기법에 있어서, 모델이 주어진 데이터들의 관계를 설명하지 못하는 부분을 Bias라 한다.\n",
    "- 그림과 같이 simple한 모델은 주어진 데이터들의 관계를 잘 설명하지 못한다.(under fit), 이는 high Bias를 뜻한다.\n",
    "\n",
    "<img src='bias.png'>\n",
    "\n"
   ]
  },
  {
   "cell_type": "markdown",
   "metadata": {},
   "source": [
    "- 그러나, 다음과 같은 복잡한 모델은 주어진 데이터들의 관계를 잘 설명해준다. \n",
    "\n",
    "- 이 경우, model이 fit하다고 하며, 다시 말하자면, bias가 작다고 한다."
   ]
  },
  {
   "cell_type": "markdown",
   "metadata": {},
   "source": [
    "<img src='bias2.png'>"
   ]
  },
  {
   "cell_type": "markdown",
   "metadata": {},
   "source": [
    "- Train set으로만 보았을때, MSE를 구하게 되면, 오른쪽의 더 복잡한 모델은 Bias가 거의 0에 가까워 MSE 값도 0에 가까울 것이다.\n",
    "\n",
    "- 따라서, Train set만 가지고, MSE 기준으로,  두 모델의 성능을 측정하였을때, 오른쪽 모델이 더 우수하다고 할 수 있다.\n",
    "\n",
    "- (주어진 데이터의 관계를 더 잘 설명한다고 할 수 있다.)"
   ]
  },
  {
   "cell_type": "markdown",
   "metadata": {},
   "source": [
    "<img src='bias3.png'>"
   ]
  },
  {
   "cell_type": "markdown",
   "metadata": {},
   "source": [
    "- 그러나, 새로운 데이터인 Test set을 가지고, 두 모델을 비교하였을 때에, 왼쪽의 단순한 모델의 성능이 더 좋다."
   ]
  },
  {
   "cell_type": "markdown",
   "metadata": {},
   "source": [
    "<img src='bias4.png'>"
   ]
  },
  {
   "cell_type": "markdown",
   "metadata": {},
   "source": [
    "- 복잡한 모델의 경우, 어떤 data가 주어지냐에 따라 적합도(설명력, fit한 정도)에 차이가 많이 났다. 이를 Variance라 한다."
   ]
  },
  {
   "cell_type": "markdown",
   "metadata": {},
   "source": [
    "<img src='var1.png'>"
   ]
  },
  {
   "cell_type": "markdown",
   "metadata": {},
   "source": [
    "- 복잡한 모델의 경우(Train set에는 fit 하지만, Test set에는 fit 하지 않은경우)를 overfit이라 한다."
   ]
  },
  {
   "cell_type": "markdown",
   "metadata": {},
   "source": [
    "<img src='overfit.png'>"
   ]
  },
  {
   "cell_type": "markdown",
   "metadata": {},
   "source": [
    "- 결국 우리가 하고자 하는 일은 단순한 모델과 복잡한 모델 사이에서\n",
    "\n",
    "- low bias 와 low variance를 충족시키는 Sweet spot을 찾고자 함이다."
   ]
  },
  {
   "cell_type": "markdown",
   "metadata": {},
   "source": [
    "<img src='goal.png'>"
   ]
  },
  {
   "cell_type": "markdown",
   "metadata": {},
   "source": [
    "<img src='goal2.png'>"
   ]
  },
  {
   "cell_type": "markdown",
   "metadata": {},
   "source": [
    "- 그리고 이러한 Task를 진행시킬떄 쓰이는 기법을 크게 regularization이라 하고, 그 중에는 boosting, baggin, stacking 등이 있다."
   ]
  },
  {
   "cell_type": "markdown",
   "metadata": {},
   "source": [
    "<img src='sweetspot.png'>"
   ]
  }
 ],
 "metadata": {
  "kernelspec": {
   "display_name": "Python [conda env:anaconda3]",
   "language": "python",
   "name": "conda-env-anaconda3-py"
  },
  "language_info": {
   "codemirror_mode": {
    "name": "ipython",
    "version": 3
   },
   "file_extension": ".py",
   "mimetype": "text/x-python",
   "name": "python",
   "nbconvert_exporter": "python",
   "pygments_lexer": "ipython3",
   "version": "3.6.4"
  }
 },
 "nbformat": 4,
 "nbformat_minor": 2
}
