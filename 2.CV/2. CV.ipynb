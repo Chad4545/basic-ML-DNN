{
 "cells": [
  {
   "cell_type": "markdown",
   "metadata": {},
   "source": [
    "## reference \n",
    "\n",
    "- https://statquest.org/video-index/"
   ]
  },
  {
   "cell_type": "markdown",
   "metadata": {},
   "source": [
    "## 2. Cross Validation"
   ]
  },
  {
   "cell_type": "markdown",
   "metadata": {},
   "source": [
    "### Task\n",
    "- 왼쪽의 데이터를 가지고 모델을 학습시킨후, 오른쪽의 새로운 데이터가 주어졌을 때, Heart disease에 대한 predict을 하고 싶다.\n",
    "\n",
    "<img src='cv1.png'>"
   ]
  },
  {
   "cell_type": "markdown",
   "metadata": {},
   "source": [
    "- 먼저 어떠한 모델을 사용하여, train data를 학습시킬지 정해야 한다.\n",
    "\n",
    "- classify task의 모델로써, Logistic Regression, Knn, SVM, Tree-based 등등의 모델들이 있다."
   ]
  },
  {
   "cell_type": "markdown",
   "metadata": {},
   "source": [
    "<img src='cv2.png'>"
   ]
  },
  {
   "cell_type": "markdown",
   "metadata": {},
   "source": [
    "- 그렇다면, 어떠한 모델이 주어진 task에 가장 적합한지 어떤 방법으로 알 수 있을까?\n",
    "\n",
    "- Cross validation은 이러한 문제를 풀기위해 제안되었다."
   ]
  },
  {
   "cell_type": "markdown",
   "metadata": {},
   "source": [
    "- 왼쪽 파란 column을 우리에게 주어진 Data라고 가정하자.\n",
    "\n",
    "- 이 data에는 심장병에 걸리지 않았거나, 걸린 모든 사람에 대한 정보가 뒤섞여있다.\n",
    "\n",
    "- 이 data를 가지고 우리는 두가지 작업을 해줘야 한다.\n",
    "\n",
    "- 먼저, estimating parameters 이다. \n",
    "\n",
    "- 이는 모델의 parameter를 추정하기 위해 train data를 사용하는 것을 의미한다."
   ]
  },
  {
   "cell_type": "markdown",
   "metadata": {},
   "source": [
    "<img src='cv3.png'>"
   ]
  },
  {
   "cell_type": "markdown",
   "metadata": {},
   "source": [
    "- 두번째, 1)을 통해 모델이 학습되었다면, 얼마나 잘 학습되었는지 평가를 해야 한다.\n",
    "- 이때, test data를 사용하여, 모델의 성능을 평가한다"
   ]
  },
  {
   "cell_type": "markdown",
   "metadata": {},
   "source": [
    "<img src='cv4.png'>"
   ]
  },
  {
   "cell_type": "markdown",
   "metadata": {},
   "source": [
    "- 요약하자면,  머신러닝 모델을 사용하기 위해서, \n",
    " \n",
    " \n",
    "- 1) 모델을 학습시키고,\n",
    "- 2) 그 모델을 테스트 해야한다."
   ]
  },
  {
   "cell_type": "markdown",
   "metadata": {},
   "source": [
    "<img src='cv5.png'>"
   ]
  },
  {
   "cell_type": "markdown",
   "metadata": {},
   "source": [
    "- 굳이, data를 training data, test data로 나누는 이유는 뭘까?\n",
    "\n",
    "- 모델을 학습시킬 당시, 모든 데이터를 사용해서 학습시킨다면\n",
    "\n",
    "- 모델이 얼마나 잘 학습되었는지 평가할 test data가 없게되기 때문이다.\n",
    "\n",
    "- 모델 성능 평가시, 학습시 사용되었던 데이터를 다시 사용하는 것은 의미가 없다.\n",
    "\n",
    "- 왜냐면, 우리가 하고 싶은 task는 처음 본 data에 대한 분류이기 때문이다."
   ]
  },
  {
   "cell_type": "markdown",
   "metadata": {},
   "source": [
    "<img src='cv6.png'>"
   ]
  },
  {
   "cell_type": "markdown",
   "metadata": {},
   "source": [
    "- 그렇다면, 어떠한 방법으로 data를 분리할 수 있을까?\n",
    "\n",
    "- 먼저, 처음 75%를 Train data로 사용하고\n"
   ]
  },
  {
   "cell_type": "markdown",
   "metadata": {},
   "source": [
    "<img src='cv7.png'>"
   ]
  },
  {
   "cell_type": "markdown",
   "metadata": {},
   "source": [
    "- 나머지 25%를 test 데이터로 사용하는 idea가 있을 수 있다.\n",
    "\n",
    "- 다음과 같은 방법으로 모델을 학습시키고, 평가할 테스트 데이터도 확보할 수 있다.\n",
    "\n",
    "- 그리고, 여러 모델(Logistic regression, SVD, KNN, etc ...)에 train set과 test set을 사용해서,\n",
    "\n",
    "- 모델의 성능을 평가할 수 있으며, 최적의 모델을 찾을 수 있다.\n",
    "\n"
   ]
  },
  {
   "cell_type": "markdown",
   "metadata": {},
   "source": [
    "<img src='cv8.png'>"
   ]
  },
  {
   "cell_type": "markdown",
   "metadata": {},
   "source": [
    "- 하지만 가장 큰 문제점은 train 데이터와 test 데이터의 분포가 다른 경우이다.\n",
    "\n",
    "- 위 경우, train set이 test set에 대한 분포정보를 담고 있지 않기 떄문에, 모델은 overfit이 일어나게 된다.\n",
    "\n"
   ]
  },
  {
   "cell_type": "markdown",
   "metadata": {},
   "source": [
    "<img src='cv9.png'>"
   ]
  },
  {
   "cell_type": "markdown",
   "metadata": {},
   "source": [
    "- 아래 그림은 전체 데이터를 4등분 했다.\n",
    "\n",
    "- Cross validation은 몇번째 block(25%)의 데이터를 test 데이터로 쓸지 고민하지 않고,\n",
    "\n",
    "- 각각 모델을 학습시킬 때마다 차례대로 test 데이터를 바꿔가며 사용하고, \n",
    "\n",
    "- 최종적으로, 각각의 결과를 summarize하여, 모델의 성능을 보여준다."
   ]
  },
  {
   "cell_type": "markdown",
   "metadata": {},
   "source": [
    "<img src='cv10.png'>"
   ]
  },
  {
   "cell_type": "markdown",
   "metadata": {},
   "source": [
    "- 다음과 같이"
   ]
  },
  {
   "cell_type": "markdown",
   "metadata": {},
   "source": [
    "<img src='cv11.png'>"
   ]
  },
  {
   "cell_type": "markdown",
   "metadata": {},
   "source": [
    "<img src='cv12.png'>"
   ]
  },
  {
   "cell_type": "markdown",
   "metadata": {},
   "source": [
    "<img src='cv13.png'>"
   ]
  },
  {
   "cell_type": "markdown",
   "metadata": {},
   "source": [
    "- 이와 같이, cross validation 을 통해  ( 4 Fold-cross validation)\n",
    "\n",
    "- 여러 모델(Logistic regression, SVD, KNN, etc ...)에 train set과 test set을 사용해서,\n",
    "\n",
    "- 모델의 성능을 평가할 수 있으며, 최적의 모델을 찾을 수 있다.\n"
   ]
  },
  {
   "cell_type": "markdown",
   "metadata": {},
   "source": [
    "<img src='cv14.png'>"
   ]
  },
  {
   "cell_type": "markdown",
   "metadata": {},
   "source": [
    "- 일단, 최적의 모델을 찾았으면, hyper parameter에 대한 튜닝을 할 경우도 있다.\n",
    "\n",
    "- 이 경우에도 k-fold Cross validation 을 사용하여 tuning을 할 수 있다."
   ]
  },
  {
   "cell_type": "markdown",
   "metadata": {},
   "source": [
    "<img src='cv15.png'>"
   ]
  },
  {
   "cell_type": "code",
   "execution_count": null,
   "metadata": {},
   "outputs": [],
   "source": []
  }
 ],
 "metadata": {
  "kernelspec": {
   "display_name": "Python [conda env:anaconda3]",
   "language": "python",
   "name": "conda-env-anaconda3-py"
  },
  "language_info": {
   "codemirror_mode": {
    "name": "ipython",
    "version": 3
   },
   "file_extension": ".py",
   "mimetype": "text/x-python",
   "name": "python",
   "nbconvert_exporter": "python",
   "pygments_lexer": "ipython3",
   "version": "3.6.4"
  }
 },
 "nbformat": 4,
 "nbformat_minor": 2
}
